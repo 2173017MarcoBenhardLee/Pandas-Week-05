{
 "cells": [
  {
   "cell_type": "code",
   "execution_count": 1,
   "id": "b6bab059",
   "metadata": {},
   "outputs": [
    {
     "name": "stdout",
     "output_type": "stream",
     "text": [
      "1.3.4\n",
      "1.20.3\n"
     ]
    }
   ],
   "source": [
    "import pandas as pd\n",
    "import numpy as np\n",
    "\n",
    "print(pd.__version__)\n",
    "print(np.__version__)"
   ]
  },
  {
   "cell_type": "code",
   "execution_count": 2,
   "id": "71ca218b",
   "metadata": {},
   "outputs": [
    {
     "data": {
      "text/html": [
       "<div>\n",
       "<style scoped>\n",
       "    .dataframe tbody tr th:only-of-type {\n",
       "        vertical-align: middle;\n",
       "    }\n",
       "\n",
       "    .dataframe tbody tr th {\n",
       "        vertical-align: top;\n",
       "    }\n",
       "\n",
       "    .dataframe thead th {\n",
       "        text-align: right;\n",
       "    }\n",
       "</style>\n",
       "<table border=\"1\" class=\"dataframe\">\n",
       "  <thead>\n",
       "    <tr style=\"text-align: right;\">\n",
       "      <th></th>\n",
       "      <th>col1</th>\n",
       "      <th>col2</th>\n",
       "    </tr>\n",
       "  </thead>\n",
       "  <tbody>\n",
       "    <tr>\n",
       "      <th>0</th>\n",
       "      <td>1</td>\n",
       "      <td>5</td>\n",
       "    </tr>\n",
       "    <tr>\n",
       "      <th>1</th>\n",
       "      <td>2</td>\n",
       "      <td>6</td>\n",
       "    </tr>\n",
       "    <tr>\n",
       "      <th>2</th>\n",
       "      <td>3</td>\n",
       "      <td>7</td>\n",
       "    </tr>\n",
       "    <tr>\n",
       "      <th>3</th>\n",
       "      <td>4</td>\n",
       "      <td>8</td>\n",
       "    </tr>\n",
       "  </tbody>\n",
       "</table>\n",
       "</div>"
      ],
      "text/plain": [
       "   col1  col2\n",
       "0     1     5\n",
       "1     2     6\n",
       "2     3     7\n",
       "3     4     8"
      ]
     },
     "execution_count": 2,
     "metadata": {},
     "output_type": "execute_result"
    }
   ],
   "source": [
    "pd.DataFrame({'col1':[1,2,3,4],\n",
    "            'col2':[5,6,7,8]})"
   ]
  },
  {
   "cell_type": "code",
   "execution_count": 3,
   "id": "dbd27858",
   "metadata": {},
   "outputs": [
    {
     "data": {
      "text/plain": [
       "array([[ 7,  2,  8],\n",
       "       [14, 16, 10],\n",
       "       [ 9, 18,  6],\n",
       "       [12,  8,  7],\n",
       "       [ 6,  8,  7]])"
      ]
     },
     "execution_count": 3,
     "metadata": {},
     "output_type": "execute_result"
    }
   ],
   "source": [
    "n_rows = 5\n",
    "n_cols = 3\n",
    "\n",
    "arr = np.random.randint(1,20,size=(n_rows,n_cols))\n",
    "arr"
   ]
  },
  {
   "cell_type": "code",
   "execution_count": 6,
   "id": "352a5778",
   "metadata": {},
   "outputs": [
    {
     "data": {
      "text/html": [
       "<div>\n",
       "<style scoped>\n",
       "    .dataframe tbody tr th:only-of-type {\n",
       "        vertical-align: middle;\n",
       "    }\n",
       "\n",
       "    .dataframe tbody tr th {\n",
       "        vertical-align: top;\n",
       "    }\n",
       "\n",
       "    .dataframe thead th {\n",
       "        text-align: right;\n",
       "    }\n",
       "</style>\n",
       "<table border=\"1\" class=\"dataframe\">\n",
       "  <thead>\n",
       "    <tr style=\"text-align: right;\">\n",
       "      <th></th>\n",
       "      <th>A</th>\n",
       "      <th>B</th>\n",
       "      <th>C</th>\n",
       "    </tr>\n",
       "  </thead>\n",
       "  <tbody>\n",
       "    <tr>\n",
       "      <th>0</th>\n",
       "      <td>7</td>\n",
       "      <td>2</td>\n",
       "      <td>8</td>\n",
       "    </tr>\n",
       "    <tr>\n",
       "      <th>1</th>\n",
       "      <td>14</td>\n",
       "      <td>16</td>\n",
       "      <td>10</td>\n",
       "    </tr>\n",
       "    <tr>\n",
       "      <th>2</th>\n",
       "      <td>9</td>\n",
       "      <td>18</td>\n",
       "      <td>6</td>\n",
       "    </tr>\n",
       "    <tr>\n",
       "      <th>3</th>\n",
       "      <td>12</td>\n",
       "      <td>8</td>\n",
       "      <td>7</td>\n",
       "    </tr>\n",
       "    <tr>\n",
       "      <th>4</th>\n",
       "      <td>6</td>\n",
       "      <td>8</td>\n",
       "      <td>7</td>\n",
       "    </tr>\n",
       "  </tbody>\n",
       "</table>\n",
       "</div>"
      ],
      "text/plain": [
       "    A   B   C\n",
       "0   7   2   8\n",
       "1  14  16  10\n",
       "2   9  18   6\n",
       "3  12   8   7\n",
       "4   6   8   7"
      ]
     },
     "execution_count": 6,
     "metadata": {},
     "output_type": "execute_result"
    }
   ],
   "source": [
    "pd.DataFrame(arr, columns=tuple('ABC'))"
   ]
  },
  {
   "cell_type": "markdown",
   "id": "5ccd554f",
   "metadata": {},
   "source": [
    "Membentuk Data Frame dengan memamfaatkan pandas.util.testing"
   ]
  },
  {
   "cell_type": "code",
   "execution_count": 7,
   "id": "45f30130",
   "metadata": {},
   "outputs": [
    {
     "name": "stderr",
     "output_type": "stream",
     "text": [
      "C:\\Users\\LENOVO\\anaconda3\\lib\\site-packages\\pandas\\util\\__init__.py:15: FutureWarning: pandas.util.testing is deprecated. Use the functions in the public API at pandas.testing instead.\n",
      "  import pandas.util.testing\n"
     ]
    },
    {
     "data": {
      "text/html": [
       "<div>\n",
       "<style scoped>\n",
       "    .dataframe tbody tr th:only-of-type {\n",
       "        vertical-align: middle;\n",
       "    }\n",
       "\n",
       "    .dataframe tbody tr th {\n",
       "        vertical-align: top;\n",
       "    }\n",
       "\n",
       "    .dataframe thead th {\n",
       "        text-align: right;\n",
       "    }\n",
       "</style>\n",
       "<table border=\"1\" class=\"dataframe\">\n",
       "  <thead>\n",
       "    <tr style=\"text-align: right;\">\n",
       "      <th></th>\n",
       "      <th>A</th>\n",
       "      <th>B</th>\n",
       "      <th>C</th>\n",
       "      <th>D</th>\n",
       "    </tr>\n",
       "  </thead>\n",
       "  <tbody>\n",
       "    <tr>\n",
       "      <th>SWRrajD8gC</th>\n",
       "      <td>-1.969429</td>\n",
       "      <td>-0.388797</td>\n",
       "      <td>-0.334240</td>\n",
       "      <td>-0.148948</td>\n",
       "    </tr>\n",
       "    <tr>\n",
       "      <th>sq9VcCJcJs</th>\n",
       "      <td>-0.462769</td>\n",
       "      <td>0.857199</td>\n",
       "      <td>0.302979</td>\n",
       "      <td>-0.875063</td>\n",
       "    </tr>\n",
       "    <tr>\n",
       "      <th>6oplVPnsA8</th>\n",
       "      <td>1.969448</td>\n",
       "      <td>-0.364301</td>\n",
       "      <td>-0.186534</td>\n",
       "      <td>-2.249110</td>\n",
       "    </tr>\n",
       "    <tr>\n",
       "      <th>Wspu1eS4D7</th>\n",
       "      <td>0.061140</td>\n",
       "      <td>0.070104</td>\n",
       "      <td>-0.307449</td>\n",
       "      <td>-0.761051</td>\n",
       "    </tr>\n",
       "    <tr>\n",
       "      <th>5S8maALjH3</th>\n",
       "      <td>-0.812850</td>\n",
       "      <td>-0.789418</td>\n",
       "      <td>-0.711662</td>\n",
       "      <td>-1.706714</td>\n",
       "    </tr>\n",
       "  </tbody>\n",
       "</table>\n",
       "</div>"
      ],
      "text/plain": [
       "                   A         B         C         D\n",
       "SWRrajD8gC -1.969429 -0.388797 -0.334240 -0.148948\n",
       "sq9VcCJcJs -0.462769  0.857199  0.302979 -0.875063\n",
       "6oplVPnsA8  1.969448 -0.364301 -0.186534 -2.249110\n",
       "Wspu1eS4D7  0.061140  0.070104 -0.307449 -0.761051\n",
       "5S8maALjH3 -0.812850 -0.789418 -0.711662 -1.706714"
      ]
     },
     "execution_count": 7,
     "metadata": {},
     "output_type": "execute_result"
    }
   ],
   "source": [
    "pd.util.testing.makeDataFrame().head()\n",
    "# data frame ini akan menghasilkan sebuah data yang terdiri dari 4 buah kolom yang nilainya acak"
   ]
  },
  {
   "cell_type": "code",
   "execution_count": 8,
   "id": "b193e9b8",
   "metadata": {},
   "outputs": [
    {
     "data": {
      "text/html": [
       "<div>\n",
       "<style scoped>\n",
       "    .dataframe tbody tr th:only-of-type {\n",
       "        vertical-align: middle;\n",
       "    }\n",
       "\n",
       "    .dataframe tbody tr th {\n",
       "        vertical-align: top;\n",
       "    }\n",
       "\n",
       "    .dataframe thead th {\n",
       "        text-align: right;\n",
       "    }\n",
       "</style>\n",
       "<table border=\"1\" class=\"dataframe\">\n",
       "  <thead>\n",
       "    <tr style=\"text-align: right;\">\n",
       "      <th></th>\n",
       "      <th>A</th>\n",
       "      <th>B</th>\n",
       "      <th>C</th>\n",
       "      <th>D</th>\n",
       "    </tr>\n",
       "  </thead>\n",
       "  <tbody>\n",
       "    <tr>\n",
       "      <th>0</th>\n",
       "      <td>0.0</td>\n",
       "      <td>0.0</td>\n",
       "      <td>foo1</td>\n",
       "      <td>2009-01-01</td>\n",
       "    </tr>\n",
       "    <tr>\n",
       "      <th>1</th>\n",
       "      <td>1.0</td>\n",
       "      <td>1.0</td>\n",
       "      <td>foo2</td>\n",
       "      <td>2009-01-02</td>\n",
       "    </tr>\n",
       "    <tr>\n",
       "      <th>2</th>\n",
       "      <td>2.0</td>\n",
       "      <td>0.0</td>\n",
       "      <td>foo3</td>\n",
       "      <td>2009-01-05</td>\n",
       "    </tr>\n",
       "    <tr>\n",
       "      <th>3</th>\n",
       "      <td>3.0</td>\n",
       "      <td>1.0</td>\n",
       "      <td>foo4</td>\n",
       "      <td>2009-01-06</td>\n",
       "    </tr>\n",
       "    <tr>\n",
       "      <th>4</th>\n",
       "      <td>4.0</td>\n",
       "      <td>0.0</td>\n",
       "      <td>foo5</td>\n",
       "      <td>2009-01-07</td>\n",
       "    </tr>\n",
       "  </tbody>\n",
       "</table>\n",
       "</div>"
      ],
      "text/plain": [
       "     A    B     C          D\n",
       "0  0.0  0.0  foo1 2009-01-01\n",
       "1  1.0  1.0  foo2 2009-01-02\n",
       "2  2.0  0.0  foo3 2009-01-05\n",
       "3  3.0  1.0  foo4 2009-01-06\n",
       "4  4.0  0.0  foo5 2009-01-07"
      ]
     },
     "execution_count": 8,
     "metadata": {},
     "output_type": "execute_result"
    }
   ],
   "source": [
    "pd.util.testing.makeMixedDataFrame().head()\n",
    "# Membuat dataframe yang tipe datanya campur"
   ]
  },
  {
   "cell_type": "code",
   "execution_count": 9,
   "id": "53e93334",
   "metadata": {},
   "outputs": [
    {
     "data": {
      "text/html": [
       "<div>\n",
       "<style scoped>\n",
       "    .dataframe tbody tr th:only-of-type {\n",
       "        vertical-align: middle;\n",
       "    }\n",
       "\n",
       "    .dataframe tbody tr th {\n",
       "        vertical-align: top;\n",
       "    }\n",
       "\n",
       "    .dataframe thead th {\n",
       "        text-align: right;\n",
       "    }\n",
       "</style>\n",
       "<table border=\"1\" class=\"dataframe\">\n",
       "  <thead>\n",
       "    <tr style=\"text-align: right;\">\n",
       "      <th></th>\n",
       "      <th>A</th>\n",
       "      <th>B</th>\n",
       "      <th>C</th>\n",
       "      <th>D</th>\n",
       "    </tr>\n",
       "  </thead>\n",
       "  <tbody>\n",
       "    <tr>\n",
       "      <th>2000-01-03</th>\n",
       "      <td>-1.372006</td>\n",
       "      <td>0.878423</td>\n",
       "      <td>2.043281</td>\n",
       "      <td>0.188372</td>\n",
       "    </tr>\n",
       "    <tr>\n",
       "      <th>2000-01-04</th>\n",
       "      <td>-1.393827</td>\n",
       "      <td>0.620758</td>\n",
       "      <td>0.131983</td>\n",
       "      <td>-0.302474</td>\n",
       "    </tr>\n",
       "    <tr>\n",
       "      <th>2000-01-05</th>\n",
       "      <td>-1.117886</td>\n",
       "      <td>-0.804941</td>\n",
       "      <td>0.326757</td>\n",
       "      <td>1.466297</td>\n",
       "    </tr>\n",
       "    <tr>\n",
       "      <th>2000-01-06</th>\n",
       "      <td>-0.924929</td>\n",
       "      <td>-0.511806</td>\n",
       "      <td>-0.248030</td>\n",
       "      <td>1.235032</td>\n",
       "    </tr>\n",
       "    <tr>\n",
       "      <th>2000-01-07</th>\n",
       "      <td>1.206344</td>\n",
       "      <td>-0.470553</td>\n",
       "      <td>-1.494981</td>\n",
       "      <td>-0.203753</td>\n",
       "    </tr>\n",
       "  </tbody>\n",
       "</table>\n",
       "</div>"
      ],
      "text/plain": [
       "                   A         B         C         D\n",
       "2000-01-03 -1.372006  0.878423  2.043281  0.188372\n",
       "2000-01-04 -1.393827  0.620758  0.131983 -0.302474\n",
       "2000-01-05 -1.117886 -0.804941  0.326757  1.466297\n",
       "2000-01-06 -0.924929 -0.511806 -0.248030  1.235032\n",
       "2000-01-07  1.206344 -0.470553 -1.494981 -0.203753"
      ]
     },
     "execution_count": 9,
     "metadata": {},
     "output_type": "execute_result"
    }
   ],
   "source": [
    "pd.util.testing.makeTimeDataFrame().head()\n",
    "# data frame waktu / time series data"
   ]
  },
  {
   "cell_type": "code",
   "execution_count": 11,
   "id": "5d576d75",
   "metadata": {},
   "outputs": [
    {
     "data": {
      "text/html": [
       "<div>\n",
       "<style scoped>\n",
       "    .dataframe tbody tr th:only-of-type {\n",
       "        vertical-align: middle;\n",
       "    }\n",
       "\n",
       "    .dataframe tbody tr th {\n",
       "        vertical-align: top;\n",
       "    }\n",
       "\n",
       "    .dataframe thead th {\n",
       "        text-align: right;\n",
       "    }\n",
       "</style>\n",
       "<table border=\"1\" class=\"dataframe\">\n",
       "  <thead>\n",
       "    <tr style=\"text-align: right;\">\n",
       "      <th></th>\n",
       "      <th>A</th>\n",
       "      <th>B</th>\n",
       "      <th>C</th>\n",
       "      <th>D</th>\n",
       "    </tr>\n",
       "  </thead>\n",
       "  <tbody>\n",
       "    <tr>\n",
       "      <th>RxH9z1jkdh</th>\n",
       "      <td>0.118282</td>\n",
       "      <td>-0.482820</td>\n",
       "      <td>-0.184708</td>\n",
       "      <td>NaN</td>\n",
       "    </tr>\n",
       "    <tr>\n",
       "      <th>83ks1LNaBL</th>\n",
       "      <td>-0.447902</td>\n",
       "      <td>0.265646</td>\n",
       "      <td>0.729904</td>\n",
       "      <td>-0.976786</td>\n",
       "    </tr>\n",
       "    <tr>\n",
       "      <th>aUe33VCyEG</th>\n",
       "      <td>NaN</td>\n",
       "      <td>-1.073277</td>\n",
       "      <td>-0.272052</td>\n",
       "      <td>1.864145</td>\n",
       "    </tr>\n",
       "    <tr>\n",
       "      <th>yBOBuN32OQ</th>\n",
       "      <td>-0.994293</td>\n",
       "      <td>NaN</td>\n",
       "      <td>-0.573938</td>\n",
       "      <td>0.607513</td>\n",
       "    </tr>\n",
       "    <tr>\n",
       "      <th>i9me4T2d8v</th>\n",
       "      <td>-0.994348</td>\n",
       "      <td>-2.434594</td>\n",
       "      <td>0.183615</td>\n",
       "      <td>1.429782</td>\n",
       "    </tr>\n",
       "  </tbody>\n",
       "</table>\n",
       "</div>"
      ],
      "text/plain": [
       "                   A         B         C         D\n",
       "RxH9z1jkdh  0.118282 -0.482820 -0.184708       NaN\n",
       "83ks1LNaBL -0.447902  0.265646  0.729904 -0.976786\n",
       "aUe33VCyEG       NaN -1.073277 -0.272052  1.864145\n",
       "yBOBuN32OQ -0.994293       NaN -0.573938  0.607513\n",
       "i9me4T2d8v -0.994348 -2.434594  0.183615  1.429782"
      ]
     },
     "execution_count": 11,
     "metadata": {},
     "output_type": "execute_result"
    }
   ],
   "source": [
    "pd.util.testing.makeMissingDataframe().head()\n",
    "# data frame yang terdapat missing value"
   ]
  }
 ],
 "metadata": {
  "kernelspec": {
   "display_name": "Python 3 (ipykernel)",
   "language": "python",
   "name": "python3"
  },
  "language_info": {
   "codemirror_mode": {
    "name": "ipython",
    "version": 3
   },
   "file_extension": ".py",
   "mimetype": "text/x-python",
   "name": "python",
   "nbconvert_exporter": "python",
   "pygments_lexer": "ipython3",
   "version": "3.9.7"
  }
 },
 "nbformat": 4,
 "nbformat_minor": 5
}
