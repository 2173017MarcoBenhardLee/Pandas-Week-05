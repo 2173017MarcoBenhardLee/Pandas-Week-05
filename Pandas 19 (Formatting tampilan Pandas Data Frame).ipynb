{
 "cells": [
  {
   "cell_type": "code",
   "execution_count": 1,
   "id": "a57f3cca",
   "metadata": {},
   "outputs": [
    {
     "name": "stdout",
     "output_type": "stream",
     "text": [
      "1.3.4\n",
      "1.20.3\n"
     ]
    }
   ],
   "source": [
    "import pandas as pd\n",
    "import numpy as np\n",
    "\n",
    "print(pd.__version__)\n",
    "print(np.__version__)"
   ]
  },
  {
   "cell_type": "code",
   "execution_count": 3,
   "id": "c6553611",
   "metadata": {},
   "outputs": [
    {
     "data": {
      "text/html": [
       "<div>\n",
       "<style scoped>\n",
       "    .dataframe tbody tr th:only-of-type {\n",
       "        vertical-align: middle;\n",
       "    }\n",
       "\n",
       "    .dataframe tbody tr th {\n",
       "        vertical-align: top;\n",
       "    }\n",
       "\n",
       "    .dataframe thead th {\n",
       "        text-align: right;\n",
       "    }\n",
       "</style>\n",
       "<table border=\"1\" class=\"dataframe\">\n",
       "  <thead>\n",
       "    <tr style=\"text-align: right;\">\n",
       "      <th></th>\n",
       "      <th>omset</th>\n",
       "      <th>operasional</th>\n",
       "    </tr>\n",
       "  </thead>\n",
       "  <tbody>\n",
       "    <tr>\n",
       "      <th>0</th>\n",
       "      <td>19</td>\n",
       "      <td>11</td>\n",
       "    </tr>\n",
       "    <tr>\n",
       "      <th>1</th>\n",
       "      <td>14</td>\n",
       "      <td>1</td>\n",
       "    </tr>\n",
       "    <tr>\n",
       "      <th>2</th>\n",
       "      <td>3</td>\n",
       "      <td>15</td>\n",
       "    </tr>\n",
       "    <tr>\n",
       "      <th>3</th>\n",
       "      <td>15</td>\n",
       "      <td>14</td>\n",
       "    </tr>\n",
       "    <tr>\n",
       "      <th>4</th>\n",
       "      <td>16</td>\n",
       "      <td>12</td>\n",
       "    </tr>\n",
       "  </tbody>\n",
       "</table>\n",
       "</div>"
      ],
      "text/plain": [
       "   omset  operasional\n",
       "0     19           11\n",
       "1     14            1\n",
       "2      3           15\n",
       "3     15           14\n",
       "4     16           12"
      ]
     },
     "execution_count": 3,
     "metadata": {},
     "output_type": "execute_result"
    }
   ],
   "source": [
    "n_rows = 5\n",
    "n_cols = 2\n",
    "cols = ['omset', 'operasional']\n",
    "\n",
    "df = pd.DataFrame(np.random.randint(1,20,size=(n_rows,n_cols)),columns= cols)\n",
    "df"
   ]
  },
  {
   "cell_type": "code",
   "execution_count": 4,
   "id": "0fb4ba62",
   "metadata": {},
   "outputs": [
    {
     "data": {
      "text/html": [
       "<div>\n",
       "<style scoped>\n",
       "    .dataframe tbody tr th:only-of-type {\n",
       "        vertical-align: middle;\n",
       "    }\n",
       "\n",
       "    .dataframe tbody tr th {\n",
       "        vertical-align: top;\n",
       "    }\n",
       "\n",
       "    .dataframe thead th {\n",
       "        text-align: right;\n",
       "    }\n",
       "</style>\n",
       "<table border=\"1\" class=\"dataframe\">\n",
       "  <thead>\n",
       "    <tr style=\"text-align: right;\">\n",
       "      <th></th>\n",
       "      <th>omset</th>\n",
       "      <th>operasional</th>\n",
       "    </tr>\n",
       "  </thead>\n",
       "  <tbody>\n",
       "    <tr>\n",
       "      <th>0</th>\n",
       "      <td>1900000</td>\n",
       "      <td>110000</td>\n",
       "    </tr>\n",
       "    <tr>\n",
       "      <th>1</th>\n",
       "      <td>1400000</td>\n",
       "      <td>10000</td>\n",
       "    </tr>\n",
       "    <tr>\n",
       "      <th>2</th>\n",
       "      <td>300000</td>\n",
       "      <td>150000</td>\n",
       "    </tr>\n",
       "    <tr>\n",
       "      <th>3</th>\n",
       "      <td>1500000</td>\n",
       "      <td>140000</td>\n",
       "    </tr>\n",
       "    <tr>\n",
       "      <th>4</th>\n",
       "      <td>1600000</td>\n",
       "      <td>120000</td>\n",
       "    </tr>\n",
       "  </tbody>\n",
       "</table>\n",
       "</div>"
      ],
      "text/plain": [
       "     omset  operasional\n",
       "0  1900000       110000\n",
       "1  1400000        10000\n",
       "2   300000       150000\n",
       "3  1500000       140000\n",
       "4  1600000       120000"
      ]
     },
     "execution_count": 4,
     "metadata": {},
     "output_type": "execute_result"
    }
   ],
   "source": [
    "df['omset'] = df['omset'] * 100_000\n",
    "df['operasional'] = df['operasional'] *10_000\n",
    "df"
   ]
  },
  {
   "cell_type": "code",
   "execution_count": 10,
   "id": "0a6c597a",
   "metadata": {},
   "outputs": [
    {
     "data": {
      "text/html": [
       "<div>\n",
       "<style scoped>\n",
       "    .dataframe tbody tr th:only-of-type {\n",
       "        vertical-align: middle;\n",
       "    }\n",
       "\n",
       "    .dataframe tbody tr th {\n",
       "        vertical-align: top;\n",
       "    }\n",
       "\n",
       "    .dataframe thead th {\n",
       "        text-align: right;\n",
       "    }\n",
       "</style>\n",
       "<table border=\"1\" class=\"dataframe\">\n",
       "  <thead>\n",
       "    <tr style=\"text-align: right;\">\n",
       "      <th></th>\n",
       "      <th>tanggal</th>\n",
       "      <th>tanggal</th>\n",
       "      <th>tanggal</th>\n",
       "      <th>omset</th>\n",
       "      <th>operasional</th>\n",
       "    </tr>\n",
       "  </thead>\n",
       "  <tbody>\n",
       "    <tr>\n",
       "      <th>0</th>\n",
       "      <td>2000-01-01</td>\n",
       "      <td>2000-01-01</td>\n",
       "      <td>2000-01-01</td>\n",
       "      <td>1900000</td>\n",
       "      <td>110000</td>\n",
       "    </tr>\n",
       "    <tr>\n",
       "      <th>1</th>\n",
       "      <td>2000-01-02</td>\n",
       "      <td>2000-01-02</td>\n",
       "      <td>2000-01-02</td>\n",
       "      <td>1400000</td>\n",
       "      <td>10000</td>\n",
       "    </tr>\n",
       "    <tr>\n",
       "      <th>2</th>\n",
       "      <td>2000-01-03</td>\n",
       "      <td>2000-01-03</td>\n",
       "      <td>2000-01-03</td>\n",
       "      <td>300000</td>\n",
       "      <td>150000</td>\n",
       "    </tr>\n",
       "    <tr>\n",
       "      <th>3</th>\n",
       "      <td>2000-01-04</td>\n",
       "      <td>2000-01-04</td>\n",
       "      <td>2000-01-04</td>\n",
       "      <td>1500000</td>\n",
       "      <td>140000</td>\n",
       "    </tr>\n",
       "    <tr>\n",
       "      <th>4</th>\n",
       "      <td>2000-01-05</td>\n",
       "      <td>2000-01-05</td>\n",
       "      <td>2000-01-05</td>\n",
       "      <td>1600000</td>\n",
       "      <td>120000</td>\n",
       "    </tr>\n",
       "  </tbody>\n",
       "</table>\n",
       "</div>"
      ],
      "text/plain": [
       "     tanggal    tanggal    tanggal    omset  operasional\n",
       "0 2000-01-01 2000-01-01 2000-01-01  1900000       110000\n",
       "1 2000-01-02 2000-01-02 2000-01-02  1400000        10000\n",
       "2 2000-01-03 2000-01-03 2000-01-03   300000       150000\n",
       "3 2000-01-04 2000-01-04 2000-01-04  1500000       140000\n",
       "4 2000-01-05 2000-01-05 2000-01-05  1600000       120000"
      ]
     },
     "execution_count": 10,
     "metadata": {},
     "output_type": "execute_result"
    }
   ],
   "source": [
    "df.index = pd.util.testing.makeDateIndex(n_rows, freq='D')\n",
    "# df.index = untuk memanggil index data frame kita\n",
    "df = df.reset_index()\n",
    "# untuk menjadi index saat day time menjadi kolom biasa dengan nama index\n",
    "df = df.rename(columns ={'index':'tanggal'})\n",
    "df"
   ]
  },
  {
   "cell_type": "markdown",
   "id": "64084d08",
   "metadata": {},
   "source": [
    "Melakukan formatting tampilan Data Frame"
   ]
  },
  {
   "cell_type": "code",
   "execution_count": 11,
   "id": "d67e1b7c",
   "metadata": {},
   "outputs": [
    {
     "data": {
      "text/html": [
       "<style type=\"text/css\">\n",
       "</style>\n",
       "<table id=\"T_7dc39_\">\n",
       "  <thead>\n",
       "    <tr>\n",
       "      <th class=\"blank level0\" >&nbsp;</th>\n",
       "      <th class=\"col_heading level0 col0\" >tanggal</th>\n",
       "      <th class=\"col_heading level0 col1\" >tanggal</th>\n",
       "      <th class=\"col_heading level0 col2\" >tanggal</th>\n",
       "      <th class=\"col_heading level0 col3\" >omset</th>\n",
       "      <th class=\"col_heading level0 col4\" >operasional</th>\n",
       "    </tr>\n",
       "  </thead>\n",
       "  <tbody>\n",
       "    <tr>\n",
       "      <th id=\"T_7dc39_level0_row0\" class=\"row_heading level0 row0\" >0</th>\n",
       "      <td id=\"T_7dc39_row0_col0\" class=\"data row0 col0\" >01/01/00</td>\n",
       "      <td id=\"T_7dc39_row0_col1\" class=\"data row0 col1\" >01/01/00</td>\n",
       "      <td id=\"T_7dc39_row0_col2\" class=\"data row0 col2\" >01/01/00</td>\n",
       "      <td id=\"T_7dc39_row0_col3\" class=\"data row0 col3\" >Rp 1900000.00</td>\n",
       "      <td id=\"T_7dc39_row0_col4\" class=\"data row0 col4\" >Rp 110000.00</td>\n",
       "    </tr>\n",
       "    <tr>\n",
       "      <th id=\"T_7dc39_level0_row1\" class=\"row_heading level0 row1\" >1</th>\n",
       "      <td id=\"T_7dc39_row1_col0\" class=\"data row1 col0\" >02/01/00</td>\n",
       "      <td id=\"T_7dc39_row1_col1\" class=\"data row1 col1\" >02/01/00</td>\n",
       "      <td id=\"T_7dc39_row1_col2\" class=\"data row1 col2\" >02/01/00</td>\n",
       "      <td id=\"T_7dc39_row1_col3\" class=\"data row1 col3\" >Rp 1400000.00</td>\n",
       "      <td id=\"T_7dc39_row1_col4\" class=\"data row1 col4\" >Rp 10000.00</td>\n",
       "    </tr>\n",
       "    <tr>\n",
       "      <th id=\"T_7dc39_level0_row2\" class=\"row_heading level0 row2\" >2</th>\n",
       "      <td id=\"T_7dc39_row2_col0\" class=\"data row2 col0\" >03/01/00</td>\n",
       "      <td id=\"T_7dc39_row2_col1\" class=\"data row2 col1\" >03/01/00</td>\n",
       "      <td id=\"T_7dc39_row2_col2\" class=\"data row2 col2\" >03/01/00</td>\n",
       "      <td id=\"T_7dc39_row2_col3\" class=\"data row2 col3\" >Rp 300000.00</td>\n",
       "      <td id=\"T_7dc39_row2_col4\" class=\"data row2 col4\" >Rp 150000.00</td>\n",
       "    </tr>\n",
       "    <tr>\n",
       "      <th id=\"T_7dc39_level0_row3\" class=\"row_heading level0 row3\" >3</th>\n",
       "      <td id=\"T_7dc39_row3_col0\" class=\"data row3 col0\" >04/01/00</td>\n",
       "      <td id=\"T_7dc39_row3_col1\" class=\"data row3 col1\" >04/01/00</td>\n",
       "      <td id=\"T_7dc39_row3_col2\" class=\"data row3 col2\" >04/01/00</td>\n",
       "      <td id=\"T_7dc39_row3_col3\" class=\"data row3 col3\" >Rp 1500000.00</td>\n",
       "      <td id=\"T_7dc39_row3_col4\" class=\"data row3 col4\" >Rp 140000.00</td>\n",
       "    </tr>\n",
       "    <tr>\n",
       "      <th id=\"T_7dc39_level0_row4\" class=\"row_heading level0 row4\" >4</th>\n",
       "      <td id=\"T_7dc39_row4_col0\" class=\"data row4 col0\" >05/01/00</td>\n",
       "      <td id=\"T_7dc39_row4_col1\" class=\"data row4 col1\" >05/01/00</td>\n",
       "      <td id=\"T_7dc39_row4_col2\" class=\"data row4 col2\" >05/01/00</td>\n",
       "      <td id=\"T_7dc39_row4_col3\" class=\"data row4 col3\" >Rp 1600000.00</td>\n",
       "      <td id=\"T_7dc39_row4_col4\" class=\"data row4 col4\" >Rp 120000.00</td>\n",
       "    </tr>\n",
       "  </tbody>\n",
       "</table>\n"
      ],
      "text/plain": [
       "<pandas.io.formats.style.Styler at 0x17d2c36f580>"
      ]
     },
     "execution_count": 11,
     "metadata": {},
     "output_type": "execute_result"
    }
   ],
   "source": [
    "formatku = {'tanggal':'{:%d/%m/%y}',\n",
    "           'operasional' : 'Rp {:.2f}',\n",
    "           'omset' : 'Rp {:.2f}'}\n",
    "#disimpan ke dictionary = formatku\n",
    "#{:.2f} = menyelipkan dua 0 dibelakang, .2 = 2 desimal, f = berarti memang desimal, \n",
    "laporan = df.style.format(formatku)\n",
    "#setelah menggunakan.style.format, object bukan dataframe lagi melainkan styler\n",
    "laporan"
   ]
  },
  {
   "cell_type": "code",
   "execution_count": 12,
   "id": "4023164d",
   "metadata": {},
   "outputs": [
    {
     "data": {
      "text/plain": [
       "pandas.io.formats.style.Styler"
      ]
     },
     "execution_count": 12,
     "metadata": {},
     "output_type": "execute_result"
    }
   ],
   "source": [
    "type(laporan) # dataframe berada di df, jika mengeksekusi laporan.head() tidak bisa karena bukan dataframe lagi melainkan styler"
   ]
  },
  {
   "cell_type": "code",
   "execution_count": 13,
   "id": "8d53d565",
   "metadata": {},
   "outputs": [
    {
     "data": {
      "text/html": [
       "<style type=\"text/css\">\n",
       "</style>\n",
       "<table id=\"T_7dc39_\">\n",
       "  <thead>\n",
       "    <tr>\n",
       "      <th class=\"col_heading level0 col0\" >tanggal</th>\n",
       "      <th class=\"col_heading level0 col1\" >tanggal</th>\n",
       "      <th class=\"col_heading level0 col2\" >tanggal</th>\n",
       "      <th class=\"col_heading level0 col3\" >omset</th>\n",
       "      <th class=\"col_heading level0 col4\" >operasional</th>\n",
       "    </tr>\n",
       "  </thead>\n",
       "  <tbody>\n",
       "    <tr>\n",
       "      <td id=\"T_7dc39_row0_col0\" class=\"data row0 col0\" >01/01/00</td>\n",
       "      <td id=\"T_7dc39_row0_col1\" class=\"data row0 col1\" >01/01/00</td>\n",
       "      <td id=\"T_7dc39_row0_col2\" class=\"data row0 col2\" >01/01/00</td>\n",
       "      <td id=\"T_7dc39_row0_col3\" class=\"data row0 col3\" >Rp 1900000.00</td>\n",
       "      <td id=\"T_7dc39_row0_col4\" class=\"data row0 col4\" >Rp 110000.00</td>\n",
       "    </tr>\n",
       "    <tr>\n",
       "      <td id=\"T_7dc39_row1_col0\" class=\"data row1 col0\" >02/01/00</td>\n",
       "      <td id=\"T_7dc39_row1_col1\" class=\"data row1 col1\" >02/01/00</td>\n",
       "      <td id=\"T_7dc39_row1_col2\" class=\"data row1 col2\" >02/01/00</td>\n",
       "      <td id=\"T_7dc39_row1_col3\" class=\"data row1 col3\" >Rp 1400000.00</td>\n",
       "      <td id=\"T_7dc39_row1_col4\" class=\"data row1 col4\" >Rp 10000.00</td>\n",
       "    </tr>\n",
       "    <tr>\n",
       "      <td id=\"T_7dc39_row2_col0\" class=\"data row2 col0\" >03/01/00</td>\n",
       "      <td id=\"T_7dc39_row2_col1\" class=\"data row2 col1\" >03/01/00</td>\n",
       "      <td id=\"T_7dc39_row2_col2\" class=\"data row2 col2\" >03/01/00</td>\n",
       "      <td id=\"T_7dc39_row2_col3\" class=\"data row2 col3\" >Rp 300000.00</td>\n",
       "      <td id=\"T_7dc39_row2_col4\" class=\"data row2 col4\" >Rp 150000.00</td>\n",
       "    </tr>\n",
       "    <tr>\n",
       "      <td id=\"T_7dc39_row3_col0\" class=\"data row3 col0\" >04/01/00</td>\n",
       "      <td id=\"T_7dc39_row3_col1\" class=\"data row3 col1\" >04/01/00</td>\n",
       "      <td id=\"T_7dc39_row3_col2\" class=\"data row3 col2\" >04/01/00</td>\n",
       "      <td id=\"T_7dc39_row3_col3\" class=\"data row3 col3\" >Rp 1500000.00</td>\n",
       "      <td id=\"T_7dc39_row3_col4\" class=\"data row3 col4\" >Rp 140000.00</td>\n",
       "    </tr>\n",
       "    <tr>\n",
       "      <td id=\"T_7dc39_row4_col0\" class=\"data row4 col0\" >05/01/00</td>\n",
       "      <td id=\"T_7dc39_row4_col1\" class=\"data row4 col1\" >05/01/00</td>\n",
       "      <td id=\"T_7dc39_row4_col2\" class=\"data row4 col2\" >05/01/00</td>\n",
       "      <td id=\"T_7dc39_row4_col3\" class=\"data row4 col3\" >Rp 1600000.00</td>\n",
       "      <td id=\"T_7dc39_row4_col4\" class=\"data row4 col4\" >Rp 120000.00</td>\n",
       "    </tr>\n",
       "  </tbody>\n",
       "</table>\n"
      ],
      "text/plain": [
       "<pandas.io.formats.style.Styler at 0x17d2c36f580>"
      ]
     },
     "execution_count": 13,
     "metadata": {},
     "output_type": "execute_result"
    }
   ],
   "source": [
    "laporan.hide_index() #menyembunyikan index"
   ]
  },
  {
   "cell_type": "code",
   "execution_count": 14,
   "id": "2c6b0121",
   "metadata": {},
   "outputs": [
    {
     "data": {
      "text/html": [
       "<style type=\"text/css\">\n",
       "</style>\n",
       "<table id=\"T_7dc39_\">\n",
       "  <caption>Data Omset dan Operasional</caption>\n",
       "  <thead>\n",
       "    <tr>\n",
       "      <th class=\"col_heading level0 col0\" >tanggal</th>\n",
       "      <th class=\"col_heading level0 col1\" >tanggal</th>\n",
       "      <th class=\"col_heading level0 col2\" >tanggal</th>\n",
       "      <th class=\"col_heading level0 col3\" >omset</th>\n",
       "      <th class=\"col_heading level0 col4\" >operasional</th>\n",
       "    </tr>\n",
       "  </thead>\n",
       "  <tbody>\n",
       "    <tr>\n",
       "      <td id=\"T_7dc39_row0_col0\" class=\"data row0 col0\" >01/01/00</td>\n",
       "      <td id=\"T_7dc39_row0_col1\" class=\"data row0 col1\" >01/01/00</td>\n",
       "      <td id=\"T_7dc39_row0_col2\" class=\"data row0 col2\" >01/01/00</td>\n",
       "      <td id=\"T_7dc39_row0_col3\" class=\"data row0 col3\" >Rp 1900000.00</td>\n",
       "      <td id=\"T_7dc39_row0_col4\" class=\"data row0 col4\" >Rp 110000.00</td>\n",
       "    </tr>\n",
       "    <tr>\n",
       "      <td id=\"T_7dc39_row1_col0\" class=\"data row1 col0\" >02/01/00</td>\n",
       "      <td id=\"T_7dc39_row1_col1\" class=\"data row1 col1\" >02/01/00</td>\n",
       "      <td id=\"T_7dc39_row1_col2\" class=\"data row1 col2\" >02/01/00</td>\n",
       "      <td id=\"T_7dc39_row1_col3\" class=\"data row1 col3\" >Rp 1400000.00</td>\n",
       "      <td id=\"T_7dc39_row1_col4\" class=\"data row1 col4\" >Rp 10000.00</td>\n",
       "    </tr>\n",
       "    <tr>\n",
       "      <td id=\"T_7dc39_row2_col0\" class=\"data row2 col0\" >03/01/00</td>\n",
       "      <td id=\"T_7dc39_row2_col1\" class=\"data row2 col1\" >03/01/00</td>\n",
       "      <td id=\"T_7dc39_row2_col2\" class=\"data row2 col2\" >03/01/00</td>\n",
       "      <td id=\"T_7dc39_row2_col3\" class=\"data row2 col3\" >Rp 300000.00</td>\n",
       "      <td id=\"T_7dc39_row2_col4\" class=\"data row2 col4\" >Rp 150000.00</td>\n",
       "    </tr>\n",
       "    <tr>\n",
       "      <td id=\"T_7dc39_row3_col0\" class=\"data row3 col0\" >04/01/00</td>\n",
       "      <td id=\"T_7dc39_row3_col1\" class=\"data row3 col1\" >04/01/00</td>\n",
       "      <td id=\"T_7dc39_row3_col2\" class=\"data row3 col2\" >04/01/00</td>\n",
       "      <td id=\"T_7dc39_row3_col3\" class=\"data row3 col3\" >Rp 1500000.00</td>\n",
       "      <td id=\"T_7dc39_row3_col4\" class=\"data row3 col4\" >Rp 140000.00</td>\n",
       "    </tr>\n",
       "    <tr>\n",
       "      <td id=\"T_7dc39_row4_col0\" class=\"data row4 col0\" >05/01/00</td>\n",
       "      <td id=\"T_7dc39_row4_col1\" class=\"data row4 col1\" >05/01/00</td>\n",
       "      <td id=\"T_7dc39_row4_col2\" class=\"data row4 col2\" >05/01/00</td>\n",
       "      <td id=\"T_7dc39_row4_col3\" class=\"data row4 col3\" >Rp 1600000.00</td>\n",
       "      <td id=\"T_7dc39_row4_col4\" class=\"data row4 col4\" >Rp 120000.00</td>\n",
       "    </tr>\n",
       "  </tbody>\n",
       "</table>\n"
      ],
      "text/plain": [
       "<pandas.io.formats.style.Styler at 0x17d2c36f580>"
      ]
     },
     "execution_count": 14,
     "metadata": {},
     "output_type": "execute_result"
    }
   ],
   "source": [
    "laporan.set_caption('Data Omset dan Operasional') #judul"
   ]
  },
  {
   "cell_type": "code",
   "execution_count": 18,
   "id": "e97da799",
   "metadata": {},
   "outputs": [
    {
     "ename": "KeyError",
     "evalue": "'`Styler.apply` and `.applymap` are not compatible with non-unique index or columns.'",
     "output_type": "error",
     "traceback": [
      "\u001b[1;31m---------------------------------------------------------------------------\u001b[0m",
      "\u001b[1;31mKeyError\u001b[0m                                  Traceback (most recent call last)",
      "\u001b[1;32m~\\anaconda3\\lib\\site-packages\\IPython\\core\\formatters.py\u001b[0m in \u001b[0;36m__call__\u001b[1;34m(self, obj)\u001b[0m\n\u001b[0;32m    343\u001b[0m             \u001b[0mmethod\u001b[0m \u001b[1;33m=\u001b[0m \u001b[0mget_real_method\u001b[0m\u001b[1;33m(\u001b[0m\u001b[0mobj\u001b[0m\u001b[1;33m,\u001b[0m \u001b[0mself\u001b[0m\u001b[1;33m.\u001b[0m\u001b[0mprint_method\u001b[0m\u001b[1;33m)\u001b[0m\u001b[1;33m\u001b[0m\u001b[1;33m\u001b[0m\u001b[0m\n\u001b[0;32m    344\u001b[0m             \u001b[1;32mif\u001b[0m \u001b[0mmethod\u001b[0m \u001b[1;32mis\u001b[0m \u001b[1;32mnot\u001b[0m \u001b[1;32mNone\u001b[0m\u001b[1;33m:\u001b[0m\u001b[1;33m\u001b[0m\u001b[1;33m\u001b[0m\u001b[0m\n\u001b[1;32m--> 345\u001b[1;33m                 \u001b[1;32mreturn\u001b[0m \u001b[0mmethod\u001b[0m\u001b[1;33m(\u001b[0m\u001b[1;33m)\u001b[0m\u001b[1;33m\u001b[0m\u001b[1;33m\u001b[0m\u001b[0m\n\u001b[0m\u001b[0;32m    346\u001b[0m             \u001b[1;32mreturn\u001b[0m \u001b[1;32mNone\u001b[0m\u001b[1;33m\u001b[0m\u001b[1;33m\u001b[0m\u001b[0m\n\u001b[0;32m    347\u001b[0m         \u001b[1;32melse\u001b[0m\u001b[1;33m:\u001b[0m\u001b[1;33m\u001b[0m\u001b[1;33m\u001b[0m\u001b[0m\n",
      "\u001b[1;32m~\\anaconda3\\lib\\site-packages\\pandas\\io\\formats\\style.py\u001b[0m in \u001b[0;36m_repr_html_\u001b[1;34m(self)\u001b[0m\n\u001b[0;32m    214\u001b[0m         \u001b[0mHooks\u001b[0m \u001b[0minto\u001b[0m \u001b[0mJupyter\u001b[0m \u001b[0mnotebook\u001b[0m \u001b[0mrich\u001b[0m \u001b[0mdisplay\u001b[0m \u001b[0msystem\u001b[0m\u001b[1;33m.\u001b[0m\u001b[1;33m\u001b[0m\u001b[1;33m\u001b[0m\u001b[0m\n\u001b[0;32m    215\u001b[0m         \"\"\"\n\u001b[1;32m--> 216\u001b[1;33m         \u001b[1;32mreturn\u001b[0m \u001b[0mself\u001b[0m\u001b[1;33m.\u001b[0m\u001b[0mrender\u001b[0m\u001b[1;33m(\u001b[0m\u001b[1;33m)\u001b[0m\u001b[1;33m\u001b[0m\u001b[1;33m\u001b[0m\u001b[0m\n\u001b[0m\u001b[0;32m    217\u001b[0m \u001b[1;33m\u001b[0m\u001b[0m\n\u001b[0;32m    218\u001b[0m     def render(\n",
      "\u001b[1;32m~\\anaconda3\\lib\\site-packages\\pandas\\io\\formats\\style.py\u001b[0m in \u001b[0;36mrender\u001b[1;34m(self, sparse_index, sparse_columns, **kwargs)\u001b[0m\n\u001b[0;32m    270\u001b[0m         \u001b[1;32mif\u001b[0m \u001b[0msparse_columns\u001b[0m \u001b[1;32mis\u001b[0m \u001b[1;32mNone\u001b[0m\u001b[1;33m:\u001b[0m\u001b[1;33m\u001b[0m\u001b[1;33m\u001b[0m\u001b[0m\n\u001b[0;32m    271\u001b[0m             \u001b[0msparse_columns\u001b[0m \u001b[1;33m=\u001b[0m \u001b[0mget_option\u001b[0m\u001b[1;33m(\u001b[0m\u001b[1;34m\"styler.sparse.columns\"\u001b[0m\u001b[1;33m)\u001b[0m\u001b[1;33m\u001b[0m\u001b[1;33m\u001b[0m\u001b[0m\n\u001b[1;32m--> 272\u001b[1;33m         \u001b[1;32mreturn\u001b[0m \u001b[0mself\u001b[0m\u001b[1;33m.\u001b[0m\u001b[0m_render_html\u001b[0m\u001b[1;33m(\u001b[0m\u001b[0msparse_index\u001b[0m\u001b[1;33m,\u001b[0m \u001b[0msparse_columns\u001b[0m\u001b[1;33m,\u001b[0m \u001b[1;33m**\u001b[0m\u001b[0mkwargs\u001b[0m\u001b[1;33m)\u001b[0m\u001b[1;33m\u001b[0m\u001b[1;33m\u001b[0m\u001b[0m\n\u001b[0m\u001b[0;32m    273\u001b[0m \u001b[1;33m\u001b[0m\u001b[0m\n\u001b[0;32m    274\u001b[0m     def set_tooltips(\n",
      "\u001b[1;32m~\\anaconda3\\lib\\site-packages\\pandas\\io\\formats\\style_render.py\u001b[0m in \u001b[0;36m_render_html\u001b[1;34m(self, sparse_index, sparse_columns, **kwargs)\u001b[0m\n\u001b[0;32m    119\u001b[0m         \u001b[0mGenerates\u001b[0m \u001b[0ma\u001b[0m \u001b[0mdict\u001b[0m \u001b[1;32mwith\u001b[0m \u001b[0mnecessary\u001b[0m \u001b[0mkwargs\u001b[0m \u001b[0mpassed\u001b[0m \u001b[0mto\u001b[0m \u001b[0mjinja2\u001b[0m \u001b[0mtemplate\u001b[0m\u001b[1;33m.\u001b[0m\u001b[1;33m\u001b[0m\u001b[1;33m\u001b[0m\u001b[0m\n\u001b[0;32m    120\u001b[0m         \"\"\"\n\u001b[1;32m--> 121\u001b[1;33m         \u001b[0mself\u001b[0m\u001b[1;33m.\u001b[0m\u001b[0m_compute\u001b[0m\u001b[1;33m(\u001b[0m\u001b[1;33m)\u001b[0m\u001b[1;33m\u001b[0m\u001b[1;33m\u001b[0m\u001b[0m\n\u001b[0m\u001b[0;32m    122\u001b[0m         \u001b[1;31m# TODO: namespace all the pandas keys\u001b[0m\u001b[1;33m\u001b[0m\u001b[1;33m\u001b[0m\u001b[0m\n\u001b[0;32m    123\u001b[0m         \u001b[0md\u001b[0m \u001b[1;33m=\u001b[0m \u001b[0mself\u001b[0m\u001b[1;33m.\u001b[0m\u001b[0m_translate\u001b[0m\u001b[1;33m(\u001b[0m\u001b[0msparse_index\u001b[0m\u001b[1;33m,\u001b[0m \u001b[0msparse_columns\u001b[0m\u001b[1;33m)\u001b[0m\u001b[1;33m\u001b[0m\u001b[1;33m\u001b[0m\u001b[0m\n",
      "\u001b[1;32m~\\anaconda3\\lib\\site-packages\\pandas\\io\\formats\\style_render.py\u001b[0m in \u001b[0;36m_compute\u001b[1;34m(self)\u001b[0m\n\u001b[0;32m    158\u001b[0m         \u001b[0mr\u001b[0m \u001b[1;33m=\u001b[0m \u001b[0mself\u001b[0m\u001b[1;33m\u001b[0m\u001b[1;33m\u001b[0m\u001b[0m\n\u001b[0;32m    159\u001b[0m         \u001b[1;32mfor\u001b[0m \u001b[0mfunc\u001b[0m\u001b[1;33m,\u001b[0m \u001b[0margs\u001b[0m\u001b[1;33m,\u001b[0m \u001b[0mkwargs\u001b[0m \u001b[1;32min\u001b[0m \u001b[0mself\u001b[0m\u001b[1;33m.\u001b[0m\u001b[0m_todo\u001b[0m\u001b[1;33m:\u001b[0m\u001b[1;33m\u001b[0m\u001b[1;33m\u001b[0m\u001b[0m\n\u001b[1;32m--> 160\u001b[1;33m             \u001b[0mr\u001b[0m \u001b[1;33m=\u001b[0m \u001b[0mfunc\u001b[0m\u001b[1;33m(\u001b[0m\u001b[0mself\u001b[0m\u001b[1;33m)\u001b[0m\u001b[1;33m(\u001b[0m\u001b[1;33m*\u001b[0m\u001b[0margs\u001b[0m\u001b[1;33m,\u001b[0m \u001b[1;33m**\u001b[0m\u001b[0mkwargs\u001b[0m\u001b[1;33m)\u001b[0m\u001b[1;33m\u001b[0m\u001b[1;33m\u001b[0m\u001b[0m\n\u001b[0m\u001b[0;32m    161\u001b[0m         \u001b[1;32mreturn\u001b[0m \u001b[0mr\u001b[0m\u001b[1;33m\u001b[0m\u001b[1;33m\u001b[0m\u001b[0m\n\u001b[0;32m    162\u001b[0m \u001b[1;33m\u001b[0m\u001b[0m\n",
      "\u001b[1;32m~\\anaconda3\\lib\\site-packages\\pandas\\io\\formats\\style.py\u001b[0m in \u001b[0;36m_apply\u001b[1;34m(self, func, axis, subset, **kwargs)\u001b[0m\n\u001b[0;32m   1084\u001b[0m                 \u001b[1;34mf\"Expected shape:   {data.shape}\"\u001b[0m\u001b[1;33m\u001b[0m\u001b[1;33m\u001b[0m\u001b[0m\n\u001b[0;32m   1085\u001b[0m             )\n\u001b[1;32m-> 1086\u001b[1;33m         \u001b[0mself\u001b[0m\u001b[1;33m.\u001b[0m\u001b[0m_update_ctx\u001b[0m\u001b[1;33m(\u001b[0m\u001b[0mresult\u001b[0m\u001b[1;33m)\u001b[0m\u001b[1;33m\u001b[0m\u001b[1;33m\u001b[0m\u001b[0m\n\u001b[0m\u001b[0;32m   1087\u001b[0m         \u001b[1;32mreturn\u001b[0m \u001b[0mself\u001b[0m\u001b[1;33m\u001b[0m\u001b[1;33m\u001b[0m\u001b[0m\n\u001b[0;32m   1088\u001b[0m \u001b[1;33m\u001b[0m\u001b[0m\n",
      "\u001b[1;32m~\\anaconda3\\lib\\site-packages\\pandas\\io\\formats\\style.py\u001b[0m in \u001b[0;36m_update_ctx\u001b[1;34m(self, attrs)\u001b[0m\n\u001b[0;32m    953\u001b[0m         \"\"\"\n\u001b[0;32m    954\u001b[0m         \u001b[1;32mif\u001b[0m \u001b[1;32mnot\u001b[0m \u001b[0mself\u001b[0m\u001b[1;33m.\u001b[0m\u001b[0mindex\u001b[0m\u001b[1;33m.\u001b[0m\u001b[0mis_unique\u001b[0m \u001b[1;32mor\u001b[0m \u001b[1;32mnot\u001b[0m \u001b[0mself\u001b[0m\u001b[1;33m.\u001b[0m\u001b[0mcolumns\u001b[0m\u001b[1;33m.\u001b[0m\u001b[0mis_unique\u001b[0m\u001b[1;33m:\u001b[0m\u001b[1;33m\u001b[0m\u001b[1;33m\u001b[0m\u001b[0m\n\u001b[1;32m--> 955\u001b[1;33m             raise KeyError(\n\u001b[0m\u001b[0;32m    956\u001b[0m                 \u001b[1;34m\"`Styler.apply` and `.applymap` are not compatible \"\u001b[0m\u001b[1;33m\u001b[0m\u001b[1;33m\u001b[0m\u001b[0m\n\u001b[0;32m    957\u001b[0m                 \u001b[1;34m\"with non-unique index or columns.\"\u001b[0m\u001b[1;33m\u001b[0m\u001b[1;33m\u001b[0m\u001b[0m\n",
      "\u001b[1;31mKeyError\u001b[0m: '`Styler.apply` and `.applymap` are not compatible with non-unique index or columns.'"
     ]
    },
    {
     "data": {
      "text/plain": [
       "<pandas.io.formats.style.Styler at 0x17d2c36f580>"
      ]
     },
     "execution_count": 18,
     "metadata": {},
     "output_type": "execute_result"
    }
   ],
   "source": [
    "laporan.highlight_min('omset', color='pink')\n",
    "laporan.highlight_max('omset', color='lightgreen')\n",
    "\n",
    "laporan.highlight_min('operasional',color ='lightblue')\n",
    "laporan.highlight_max('operasional',color='grey')"
   ]
  }
 ],
 "metadata": {
  "kernelspec": {
   "display_name": "Python 3 (ipykernel)",
   "language": "python",
   "name": "python3"
  },
  "language_info": {
   "codemirror_mode": {
    "name": "ipython",
    "version": 3
   },
   "file_extension": ".py",
   "mimetype": "text/x-python",
   "name": "python",
   "nbconvert_exporter": "python",
   "pygments_lexer": "ipython3",
   "version": "3.9.7"
  }
 },
 "nbformat": 4,
 "nbformat_minor": 5
}
